{
 "cells": [
  {
   "cell_type": "markdown",
   "id": "94572f9c-f364-4bdc-a813-3adb42bd91d6",
   "metadata": {},
   "source": [
    "# Bracket creep\n",
    "\n",
    "Income tax in Australia is progressive. This means every extra dollar earned over a given threshhold is subject to a higher rate of tax. This leads to the following string of reasoning: getting a pay rise *means* getting placed in a higher tax bracket *means* paying more tax *means* receiving less income (less taxes) had they foregone the pay rise. This reasoning, compelling at a glance, leads to many people to forgo a pay rise. \n",
    "\n",
    "This is but one feature of the notion of *bracket creep*. Read about it in words of the Australian Goverment [here](https://www.aph.gov.au/About_Parliament/Parliamentary_Departments/Parliamentary_Budget_Office/Publications/Budget_explainers/Bracket_creep#:~:text=Bracket%20creep%20is%20a%20term,number%20of%20tax%20'brackets').\n",
    "\n",
    "Now, these people are correct of course in their first impressions: that being placed in a higher tax bracket means they will pay more in tax. Their mistake lies in fixating on only one half of the equation. The higher income they receive offsets any extra tax they would pay. This can be demonstrated empirically. \n",
    "\n",
    "There is a slightly more nuanced sense however in which people are correct in *all* of their assertions. But to understand this involves understanding income earned *at the margins*. Knowing that tax is progressive, each extra dollar earned is worth less *on average* than each dollar earned earlier. Hence it is reasonable to ask: \n",
    "\n",
    "*is it worth expending the same effort in earning previous dollars to earn this extra dollar?* \n",
    "\n",
    "We firstly look at the net income earned, which is income less taxes, and show how being placed in higher brackets does *not* imply taing home less *net* income. Subsequently, we will see how the average return on each dollar nevertheless decreases with every dollar earned, thus begging the above question. "
   ]
  },
  {
   "cell_type": "markdown",
   "id": "fc15f89a-4246-43d9-8a10-70eba0ce2292",
   "metadata": {},
   "source": [
    "## Median net income\n",
    "\n",
    "In the `tax` module one finds the method `netIncome` which passes in an income and returns *net* income, being the income less taxes. A person's *net* income is their cash in the bank. It is the money they can use to spend on whatever they want. The rates of tax on income in Australia can be found [here](https://www.ato.gov.au/rates/individual-income-tax-rates/). "
   ]
  },
  {
   "cell_type": "code",
   "execution_count": 1,
   "id": "96e02834-ff9b-431b-8493-1e15f8edd61f",
   "metadata": {},
   "outputs": [],
   "source": [
    "import tax"
   ]
  },
  {
   "cell_type": "markdown",
   "id": "d4e1cfd1-21cb-4036-80ac-643592394395",
   "metadata": {},
   "source": [
    "From the [Australian Bureau of Statistics](https://www.abs.gov.au/statistics/labour/earnings-and-working-conditions/personal-income-australia/2014-15-2018-19) the median income for employed Australians during the year 2018-2019 was `51 389`. Their median *net income* was:"
   ]
  },
  {
   "cell_type": "code",
   "execution_count": 2,
   "id": "46b4b2b0-09b5-4fe3-86d7-a7569c2c11f6",
   "metadata": {},
   "outputs": [
    {
     "data": {
      "text/plain": [
       "44220.57"
      ]
     },
     "execution_count": 2,
     "metadata": {},
     "output_type": "execute_result"
    }
   ],
   "source": [
    "round(tax.netIncome(51389), 2)"
   ]
  },
  {
   "cell_type": "markdown",
   "id": "60039bb7-bab6-465d-9112-6b257b92bf9c",
   "metadata": {},
   "source": [
    "And so `44 220.57` is the number of Australian dollars that the median income earner in Australia pocketed during the year 2018-2019."
   ]
  },
  {
   "cell_type": "markdown",
   "id": "4915c197-701a-4e5e-be18-e5e9a825ccb3",
   "metadata": {},
   "source": [
    "### Income from net income\n",
    "\n",
    "In reverse, suppose we know the *net* income `net`. Is it then possible to calculate what the income, `income`, was such that `netIncome(income)` is the given *net* income `net`? That is, is it possible to invert the function `netIncome`? \n",
    "\n",
    "The difference between income and *net* income is of course the tax paid. If it is possible to calculate income from *net* income, thereby inverting `netIncome`, it will be possible to calculate the tax paid.\n",
    "\n",
    "The method `netIncomeInverse` in the `tax` module is the desired inverse. Suppose instead that the quoted figure `51 389` above is actually the *net* median income. What was the median income then? Calling `netIncomeInverse`:"
   ]
  },
  {
   "cell_type": "code",
   "execution_count": 3,
   "id": "267e9397-8869-47e9-a730-c79e8bdc46fb",
   "metadata": {},
   "outputs": [
    {
     "data": {
      "text/plain": [
       "62008.89"
      ]
     },
     "execution_count": 3,
     "metadata": {},
     "output_type": "execute_result"
    }
   ],
   "source": [
    "round(tax.netIncomeInverse(51389), 2)"
   ]
  },
  {
   "cell_type": "markdown",
   "id": "5b8cfd6a-c9ec-4ba7-924e-27aa6654a5bb",
   "metadata": {},
   "source": [
    "And so, were the median income earner to *pocket* `51 389` Australian dollars, they would have to have earned an income of `62 008.89`. \n",
    "\n",
    "**Note.** To see that `netIncomeInverse` really is an inverse, it would have to satisfy `netIncomeInverse(netIncome(x)) = x` for any income `x`. This can be proved by directly inspecting the calculation used in the method `netIncomeInverse`. The following code cell gives a demonstration for some sample incomes."
   ]
  },
  {
   "cell_type": "code",
   "execution_count": 4,
   "id": "55b5a260-47cb-443c-ab8e-233ffe384c13",
   "metadata": {},
   "outputs": [
    {
     "name": "stdout",
     "output_type": "stream",
     "text": [
      "the net income is 100. The (gross) income, or inverse, is 100.\n",
      "the net income is 18000. The (gross) income, or inverse, is 18000.\n",
      "the net income is 33428.0. The (gross) income, or inverse, is 37000.0.\n",
      "the net income is 54083.0. The (gross) income, or inverse, is 66000.0.\n",
      "the net income is 96833.0. The (gross) income, or inverse, is 130000.0.\n",
      "the net income is 139333.0. The (gross) income, or inverse, is 200000.0.\n",
      "the net income is 579333.0. The (gross) income, or inverse, is 1000000.0.\n"
     ]
    }
   ],
   "source": [
    "sample_incomes = [\n",
    "    100, 18000, 37000, 66000, 130000, 200000, 10**6\n",
    "]\n",
    "\n",
    "for income in sample_incomes:\n",
    "    net = tax.netIncome(income)\n",
    "    inverse = tax.netIncomeInverse(net)\n",
    "    print(f\"the net income is {net}. The (gross) income, or inverse, is {round(inverse, 2)}.\")"
   ]
  },
  {
   "cell_type": "markdown",
   "id": "54f3420f-9901-4cf0-94ef-fd95bc65ed8a",
   "metadata": {},
   "source": [
    "### Tax paid\n",
    "\n",
    "As mentioned earlier, an important feature of having the inverse `netIncomeInverse` is the ability to calculate the tax paid given a *net* income. The `taxPaid` method in the `tax` module can be called on any  income, net or gross, to return the tax paid. \n",
    "\n",
    "On the median Australian income of `51 389` we have:"
   ]
  },
  {
   "cell_type": "code",
   "execution_count": 6,
   "id": "b6254e1b-787c-41e5-be21-c902c22e1af7",
   "metadata": {},
   "outputs": [
    {
     "data": {
      "text/plain": [
       "10619.89"
      ]
     },
     "execution_count": 6,
     "metadata": {},
     "output_type": "execute_result"
    }
   ],
   "source": [
    "tax.taxPaidNet(51389)"
   ]
  },
  {
   "cell_type": "code",
   "execution_count": 7,
   "id": "bd678336-926f-4dbd-9af7-288c68ccb758",
   "metadata": {},
   "outputs": [
    {
     "data": {
      "text/plain": [
       "7168.43"
      ]
     },
     "execution_count": 7,
     "metadata": {},
     "output_type": "execute_result"
    }
   ],
   "source": [
    "tax.taxPaidGross(51389)"
   ]
  },
  {
   "cell_type": "markdown",
   "id": "342e9181-afda-473e-b91b-d0f7c0ee5614",
   "metadata": {},
   "source": [
    "In the first instance, the median income `51 389` is the *net* income. The tax paid by the median income earner is `10 619.89`. \n",
    "\n",
    "In the second instance, the median income is `51 389` *gross* income. The tax paid by the median income earner in this case is less. It is `7 168.43`. "
   ]
  },
  {
   "cell_type": "markdown",
   "id": "4e07d370-b0a4-481f-af81-147bb7df83ad",
   "metadata": {},
   "source": [
    "## Bracket creep for net income\n",
    "\n",
    "In Australia there are *five* tax brackets. Within each tax bracket, the tax rate is a fixed percentage. To see that getting placed in a higher tax bracket does *not* lead to less net income, it suffices to look at incomes on either side of the each tax bracket and calculate the net income with `netIncome`. \n",
    "\n",
    "That is, we need to look at four pairs of incomes. With the instance `tax_brackets` from the `tax` module, these income pairs are:"
   ]
  },
  {
   "cell_type": "code",
   "execution_count": 8,
   "id": "a58f9a12-1dcf-4443-9ba2-aa333bc77989",
   "metadata": {},
   "outputs": [
    {
     "name": "stdout",
     "output_type": "stream",
     "text": [
      "18200 versus 18201\n",
      "45000 versus 45001\n",
      "120000 versus 120001\n",
      "180000 versus 180001\n"
     ]
    }
   ],
   "source": [
    "import math\n",
    "\n",
    "for i in tax.tax_brackets:\n",
    "    if i != 0 and tax.tax_brackets[i] != math.inf:\n",
    "        print(f\"{tax.tax_brackets[i]} versus {tax.tax_brackets[i] + 1}\")"
   ]
  },
  {
   "cell_type": "markdown",
   "id": "62b32e08-e2ad-48fc-a834-55a902f53cd7",
   "metadata": {},
   "source": [
    "And so, if you were on an income on the *left* of the above two columns of numbers, a pay rise of a single dollar would place you in a higher tax bracket. This means you pay more in tax. But does it mean you end up pocketing less money overall? \n",
    "\n",
    "With `netIncome`, the above incomes result in the following net incomes:"
   ]
  },
  {
   "cell_type": "code",
   "execution_count": 9,
   "id": "9618b14a-ae7e-4e2e-8e46-09e651be872e",
   "metadata": {},
   "outputs": [
    {
     "name": "stdout",
     "output_type": "stream",
     "text": [
      "18200 versus 18200.81\n",
      "39908.0 versus 39908.68\n",
      "90533.0 versus 90533.63\n",
      "128333.0 versus 128333.55\n"
     ]
    }
   ],
   "source": [
    "for i in tax.tax_brackets:\n",
    "    if i != 0 and tax.tax_brackets[i] != math.inf:\n",
    "        print(f\"{tax.netIncome(tax.tax_brackets[i])} versus {tax.netIncome(tax.tax_brackets[i] + 1)}\")\n",
    "        "
   ]
  },
  {
   "cell_type": "markdown",
   "id": "1a0a540b-8341-4138-afa6-c138a1a5fd29",
   "metadata": {},
   "source": [
    "The numbers on the right are larger than their partner numbers on the left. Indeed, taking the difference `right - left` gives:"
   ]
  },
  {
   "cell_type": "code",
   "execution_count": 10,
   "id": "e63600c5-9933-4eb6-93fd-5ea5322da21c",
   "metadata": {},
   "outputs": [
    {
     "name": "stdout",
     "output_type": "stream",
     "text": [
      "0.81\n",
      "0.68\n",
      "0.63\n",
      "0.55\n"
     ]
    }
   ],
   "source": [
    "for i in tax.tax_brackets:\n",
    "    if i != 0 and tax.tax_brackets[i] != math.inf:\n",
    "        print(round(tax.netIncome(tax.tax_brackets[i] + 1) - tax.netIncome(tax.tax_brackets[i]), 2))"
   ]
  },
  {
   "cell_type": "markdown",
   "id": "1093802d-03c3-46a6-8ebf-8856c2b505b8",
   "metadata": {},
   "source": [
    "All the numbers above are greater than zero (in fact, they are the complements of the tax rates for the respective tax bracket, i.e., the *marginal* tax rates). Hence, being placed in a higher tax bracker does *not* imply less income overall. \n",
    "\n",
    "Indeed, unsurprisingly, it results in *more* net income overall."
   ]
  },
  {
   "cell_type": "markdown",
   "id": "a2c06012-8483-488e-a08e-434a3f1ee211",
   "metadata": {},
   "source": [
    "## Bracket creep on the margin\n",
    "\n",
    "A more interesting question is now: \n",
    "\n",
    "*is it worth putting in the **effort** to earn an extra dollar of income if it places you in a higher tax bracket?* \n",
    "\n",
    "The motivation behind asking this question lies in the observation: getting placed in a higher bracket leads to less return on effort expended in earning the next dollar compared to that expended on earning the previous dollars.\n",
    "\n",
    "This can be highlighted through in the following example.\n",
    "\n",
    "### Example\n",
    "\n",
    "#### In the first bracket\n",
    "\n",
    "On an income of `18 200`, each dollar earned less than `18 200` carried no tax. That is, each dollar less than `18 200` is worth `1` *net* dollars. The effort in earning one more dollar however puts you in the tax bracket carrying `0.19` tax. That is, the dollar sending `18 200` to `18 201` is worth `0.81` *net* dollars. This dollar is worth less than any of the previous `18 200` dollars. \n",
    "\n",
    "*Is earning it worth the same effort?* \n",
    "\n",
    "This question might seem silly in this tax bracket. The exigencies of the economy may be motivation enough to earn the `18 200`-th dollar. It becomes more interesting at higher tax brackets however. \n",
    "\n",
    "#### In the last bracket\n",
    "\n",
    "On an income of `180 000`, the *average tax rate* is:"
   ]
  },
  {
   "cell_type": "code",
   "execution_count": 11,
   "id": "ff4dbc39-6543-408b-b64f-c5ffdc718d66",
   "metadata": {},
   "outputs": [
    {
     "data": {
      "text/plain": [
       "0.71"
      ]
     },
     "execution_count": 11,
     "metadata": {},
     "output_type": "execute_result"
    }
   ],
   "source": [
    "round(tax.netIncome(180000)/180000, 2)"
   ]
  },
  {
   "cell_type": "markdown",
   "id": "e94965fb-4266-43e3-bc32-314a424218f1",
   "metadata": {},
   "source": [
    "Hence, the return on every dollar earned under `180 000` is, on average, `0.71` *net* dollars. \n",
    "\n",
    "```{note}\n",
    "\n",
    "It is imperative to use \"average rates\" since the rate of tax is not constant. It is progressive and so changes as we progress through the tax brackets.\n",
    "\n",
    "```\n",
    "\n",
    "\n",
    "The extra dollar sending `180 000` to `180 001` carries a tax of `0.45`. Hence, it is only worth `0.55` *net* dollars. Much less than the average. \n",
    "\n",
    "*Is it worth putting in the same effort to earn the `180 000`-th dollar?*\n",
    "\n",
    "Now to add a bit more context to this question, note that `0.71` is greater than the *net* value of each dollar in the tax bracket `120 000` to `180 000`. From the tax rates in the instance `tax_rates`, each dollar in this bracket carries a tax of `0.37`. This means its value is `0.63` *net* dollars. Compared to the average of `0.71`, `0.63` is as a percentage:"
   ]
  },
  {
   "cell_type": "code",
   "execution_count": 12,
   "id": "ae50858b-5246-4f79-98db-f35069ae58ce",
   "metadata": {},
   "outputs": [
    {
     "name": "stdout",
     "output_type": "stream",
     "text": [
      "88.73 percent of 0.71\n"
     ]
    }
   ],
   "source": [
    "percentage = round((0.63/0.71)*100, 2)\n",
    "print(f\"{percentage} percent of {0.71}\")"
   ]
  },
  {
   "cell_type": "markdown",
   "id": "aae657d2-eb6f-4881-9845-b901b3ff54c7",
   "metadata": {},
   "source": [
    "What does this mean? Firstly that the `179 999`-th dollar is worth `88.73` percent of the *average dollar* under `180 000`. That is, each extra dollar earned is losing value. \n",
    "\n",
    "The *premium* on earning the `180 000`-th dollar is `11.27` percent. That is, in order to earn this dollar, one is willing earn it at an `11.27` percent *loss* in average value. Similarly, concerning the `180 000`-th dollar, this is earned at an even greater loss. As it is worth `0.55` *net* dollars we find as a percentage of the average:"
   ]
  },
  {
   "cell_type": "code",
   "execution_count": 13,
   "id": "ade185b2-67f5-4c32-88c4-594367b76170",
   "metadata": {},
   "outputs": [
    {
     "name": "stdout",
     "output_type": "stream",
     "text": [
      "77.46 percent of 0.71\n"
     ]
    }
   ],
   "source": [
    "percentage = round((0.55/0.71*100), 2)\n",
    "print(f\"{percentage} percent of {0.71}\")"
   ]
  },
  {
   "cell_type": "markdown",
   "id": "ed360198-ca87-447a-9f5f-1c84a997f879",
   "metadata": {},
   "source": [
    "The premium on the `180 001`-th is thus `22.54` percent. Compared to the `179 999`-th dollar, the premium has increased by:"
   ]
  },
  {
   "cell_type": "code",
   "execution_count": 14,
   "id": "fc8a55c3-aa87-4dba-8a22-bef190e0538e",
   "metadata": {},
   "outputs": [
    {
     "name": "stdout",
     "output_type": "stream",
     "text": [
      "100.0 percent.\n"
     ]
    }
   ],
   "source": [
    "premium = 22.54/11.27 - 1\n",
    "premium = 100*premium\n",
    "print(f\"{round(premium, 2)} percent.\")"
   ]
  },
  {
   "cell_type": "markdown",
   "id": "2cd5275d-ce0c-41db-819d-48c8e86088e2",
   "metadata": {},
   "source": [
    "That is, the premium on earning the `180 000`-th dollar has doubled compared to earning the `179 999`-th dollar. This is directly due to having progressed to a new tax bracket. And so it is worth asking more earnestly:\n",
    "\n",
    "*is this increase in premium worth putting in the effort to earn the `180 000`-th dollar?*\n",
    "\n",
    "This question and the preceeding calculations are precursors to the notion of marginal utility in classical economics."
   ]
  },
  {
   "cell_type": "markdown",
   "id": "ff8a11b5-4b26-4bc5-afea-6930ece7bbb5",
   "metadata": {},
   "source": [
    "## Marginal value\n",
    "\n",
    "\n",
    "### The $x$-th dollar\n",
    "\n",
    "We begin with establishing the following notion of \"the $x$-th dollar\".\n",
    "\n",
    "```{admonition} Definition.\n",
    "\n",
    "*The dollar sending $x \\mapsto x + 1$ will be referred to as the **$x$-th dollar**.*\n",
    "```\n",
    "\n",
    "The $x$-th dollar is worth `(1 - tax_rate)`-many *net* dollars. That is, depending on the tax bracket in which the income $x$ falls, that's the rate of tax carried by the $x$-th dollar. \n",
    "\n",
    "Traditionally, the *marginal value* is the value of an additional unit of output. In the present case, the marginal value of the $x$-th dollar is precisely `(1 - tax_rate)`. The following code passes in an income $x$ and returns the *marginal value* of the $x$-th dollar."
   ]
  },
  {
   "cell_type": "code",
   "execution_count": 15,
   "id": "a64fd95b-a4e8-4eb7-9231-4cfc17fab5b6",
   "metadata": {},
   "outputs": [],
   "source": [
    "def marginalValue(income):\n",
    "    for i in tax.tax_brackets:\n",
    "        if income <= tax.tax_brackets[i]:\n",
    "            return 1-tax.tax_rates[i]"
   ]
  },
  {
   "cell_type": "markdown",
   "id": "5987aaca-369e-42a1-ae73-79640043e49d",
   "metadata": {},
   "source": [
    "### The average return\n",
    "\n",
    "As with marginal value, at a given level of income we can also form the *average return*. On an income $x$, the *average return* for each dollar earned less than $x$ is given by\n",
    "\n",
    "$$\n",
    "\\begin{align}\n",
    "\\mbox{aveReturn}(x) = \\frac{\\mbox{netIncome$(x)$}}{x}.\n",
    "\\end{align}\n",
    "$$\n",
    "\n"
   ]
  },
  {
   "cell_type": "code",
   "execution_count": 16,
   "id": "b13d6e03-642d-4986-aa7d-cfa6823487de",
   "metadata": {},
   "outputs": [],
   "source": [
    "def aveReturn(income):\n",
    "    return tax.netIncome(income)/income"
   ]
  },
  {
   "cell_type": "markdown",
   "id": "351c3701-d9a1-4615-af0b-4a80df8dc410",
   "metadata": {},
   "source": [
    "```{note}\n",
    "\n",
    "In the investopedia article [here](https://www.investopedia.com/terms/m/marginaltaxrate.asp), what we have called the average is referred to as the *effective* tax rate.\n",
    "\n",
    "```"
   ]
  },
  {
   "cell_type": "markdown",
   "id": "7d207aff-d7ef-4d25-9157-8489c9f45a12",
   "metadata": {},
   "source": [
    "## Plots\n",
    "\n",
    "### The average return\n",
    "\n",
    "As suggested above, the average return on each dollar decreases with each dollar earned. In the following plot, the $x$-axis parametrises income. The $y$-axis the average return on a dollar of income."
   ]
  },
  {
   "cell_type": "code",
   "execution_count": 17,
   "id": "83e9c4eb-a830-42e5-a89b-5686a697ca4e",
   "metadata": {},
   "outputs": [
    {
     "data": {
      "image/png": "[encoded data removed]",
      "text/plain": [
       "<Figure size 800x300 with 1 Axes>"
      ]
     },
     "metadata": {
      "needs_background": "light"
     },
     "output_type": "display_data"
    }
   ],
   "source": [
    "import matplotlib.pyplot as plt\n",
    "\n",
    "\n",
    "incomes = [i for i in range(1, 300001)]\n",
    "average_returns = [aveReturn(i) for i in range(1, 300001)]\n",
    "marginal_values = [marginalValue(i) for i in range(1, 300001)]\n",
    "\n",
    "\n",
    "plt.figure(figsize = (8, 3), dpi=100)\n",
    "plt.title(\"Average and marginal value\")\n",
    "\n",
    "plt.xlabel(\"Dollars earned\")\n",
    "plt.ylabel(\"Dollar value\")\n",
    "\n",
    "plt.plot(incomes, average_returns, label=\"Average return on the dollar\")\n",
    "plt.plot(incomes, marginal_values, label=\"Marginal value\")\n",
    "\n",
    "plt.legend()\n",
    "plt.show()"
   ]
  },
  {
   "cell_type": "markdown",
   "id": "0807a30a-b533-40bc-86e4-c4c64afb2a0f",
   "metadata": {},
   "source": [
    "```{note}\n",
    "\n",
    "The marginal value curve is consistently less than the average value. This is to be expected since the average is falling. If the average were rising, then marginal value should be greater than average value. The two values coincide when the average value is constant, as can be seen for incomes in the first tax bracket, i.e., in the range `0` to `18 200`.\n",
    "```\n",
    "\n",
    "\n",
    "\n",
    "Since the marginal tax rate is constant for all incomes $x$ greater than `180 000`, the average value curve will asymptote to this line. In other words, the dollar at infinity will be worth `0.55` *net* dollars. In particular, the Australian dollar will *always* be worth more than `0.55` *net* dollars. The marginal value of an Australian dollar will never be worth more than the average however.\n"
   ]
  },
  {
   "cell_type": "markdown",
   "id": "b7c65586-586b-4a61-a3d3-7039bef8cefd",
   "metadata": {},
   "source": [
    "## More on average and marginal values\n",
    "\n",
    "\n",
    "### Premium on the marginal dollar\n",
    "\n",
    "We have seen that the marginal value of an Australian dollar will always be less than the average. What is the *magnitude* of this difference? In inspecting the magnitude we will be able to clearly see the impact of  progressive taxation.\n",
    "\n",
    "At an income level $x$, let $\\mathfrak m_x$ denote the marginal value of the $x$-th dollar and $\\alpha_x$ the average *net* value value of every dollar less than $x$. We have demonstrated that $\\mathfrak m_x \\leq \\alpha_x$ for all $x$, with equality if and only if $0\\leq x\\leq 18~200$, i.e., if the income $x$ falls in the first tax bracket. \n",
    "\n",
    "```{admonition} Definition\n",
    "\n",
    "The *premium* on $x$-th dollar, denoted $|x|$, is the percentage difference between $\\mathfrak m_x$ and $\\alpha_x$ as a percentage of $\\alpha_x$. \n",
    "```\n",
    "\n",
    "The premium is calculated as\n",
    "\n",
    "$$\n",
    "\\begin{align}\n",
    "\\frac{|x|}{100}\n",
    "=\n",
    "\\frac{\\alpha_x - \\mathfrak m_x}{\\alpha_x}\n",
    "\\end{align}\n",
    "$$\n",
    "\n",
    "```{note}\n",
    "\n",
    "Since $\\mathfrak m_x \\leq \\alpha_x$, the premium $|x|$ will always be positive. If it is negative, then the marginal value is higher than the average value. If the premium were negative, we might instead refer to it as a \"discount\".\n",
    "```\n",
    "\n",
    "\n",
    "\n"
   ]
  },
  {
   "cell_type": "code",
   "execution_count": 18,
   "id": "f67a0479-d01d-412c-b6c3-ccb03f55e0eb",
   "metadata": {},
   "outputs": [],
   "source": [
    "def premium(income):\n",
    "    average = aveReturn(income)\n",
    "    marginal = marginalValue(income)\n",
    "    percentage = (average - marginal)/average\n",
    "    percentage = 100*percentage\n",
    "    return round(percentage, 2)"
   ]
  },
  {
   "cell_type": "markdown",
   "id": "97968d5b-1b8e-41d2-bb86-e0bce82fb118",
   "metadata": {},
   "source": [
    "### Plot of the premium\n",
    "\n",
    "From the earlier plot, see that as $x$ approaches a new tax bracket the values $\\alpha_x$ and $\\mathfrak m_x$ come closer. Then on progession through to a new tax bracket they suddenly jump apart, as though repelled by a new force in physics (c.f., the strong nuclear force). \n",
    "\n",
    "This can be seen directly in the following plot."
   ]
  },
  {
   "cell_type": "code",
   "execution_count": 19,
   "id": "762e16aa-c0e8-4419-8d35-049419f328f7",
   "metadata": {},
   "outputs": [
    {
     "data": {
      "image/png": "[encoded data removed]",
      "text/plain": [
       "<Figure size 600x300 with 1 Axes>"
      ]
     },
     "metadata": {
      "needs_background": "light"
     },
     "output_type": "display_data"
    }
   ],
   "source": [
    "incomes = [i for i in range(1, 300001)]\n",
    "premiums = [premium(i) for i in range(1, 300001)]\n",
    "\n",
    "plt.figure(figsize=(6, 3), dpi=100)\n",
    "plt.plot(incomes, premiums)\n",
    "\n",
    "plt.title(\"Premium to income\")\n",
    "plt.ylabel(\"Premium\")\n",
    "plt.xlabel(\"Dollars earned\")\n",
    "\n",
    "# plt.legend()\n",
    "plt.show()"
   ]
  },
  {
   "cell_type": "markdown",
   "id": "4ff3dce7-8eda-4ece-9167-3a5c175db027",
   "metadata": {},
   "source": [
    "### Further remarks  \n",
    "\n",
    "The above plot reveals the following. Along the $x$-axis we find income while the $y$-axis records the premium of the marginal dollar earned. It addresses the question: \n",
    "\n",
    "*at what premium does the marginal dollar trade relative to the average?* \n",
    "\n",
    "The tax-free threshhold is at the income level of `18 200`. That is, there is no tax paid on income less than `18 200`. Accordingly, there is no premium on the marginal dollar. This changes immediately for the `18 200`-th dollar. The premium on this dollar is `0.19`, or `19` percent. Since the marginal value is constant within tax brackets, the premium rapidly decreases until it hits the next threshhold. \n",
    "\n",
    "An interesting point to observe is that, with each threshhold passed, the premium increases \"on average\" for incomes under `300 000`. Any marginal dollar less than `18 200` carries the lowest premium, being *zero*. The marginal dollar carrying the highest premium is the `45 000`-th dollar. It carries a premium of:"
   ]
  },
  {
   "cell_type": "code",
   "execution_count": 20,
   "id": "6033ee78-e4e1-4384-8626-f318fd6f9f97",
   "metadata": {},
   "outputs": [
    {
     "name": "stdout",
     "output_type": "stream",
     "text": [
      "23.89 percent.\n"
     ]
    }
   ],
   "source": [
    "print(f\"{premium(45001)} percent.\")"
   ]
  },
  {
   "cell_type": "markdown",
   "id": "85248ff2-ff1c-46eb-a690-77a9ea448748",
   "metadata": {},
   "source": [
    "Where the median income earner is concerned, recall that they earn `51 389`. Their premium on earning the `51 389`-th dollar is:"
   ]
  },
  {
   "cell_type": "code",
   "execution_count": 21,
   "id": "0df389e8-fc62-4d01-9839-375fd924b4ab",
   "metadata": {},
   "outputs": [
    {
     "name": "stdout",
     "output_type": "stream",
     "text": [
      "21.56 percent.\n"
     ]
    }
   ],
   "source": [
    "print(f\"{premium(51390)} percent.\")"
   ]
  },
  {
   "cell_type": "markdown",
   "id": "ace9a04e-e6a7-4e1c-acd5-7606d6ce82b2",
   "metadata": {},
   "source": [
    "The dollar at infinity will be worth `0.55` *net* dollars. Its premium is zero since, at infinity, the marginal dollar value will coincide with the average value. Hence, continuing along the income level ($x$-axis) to infinity, the premium on the marginal dollar limits to zero."
   ]
  },
  {
   "cell_type": "markdown",
   "id": "8e3afbb6-07c0-4c51-8589-09082c8b9dcf",
   "metadata": {},
   "source": [
    "## Toward applications\n",
    "\n",
    "This article began with the question of whether an income earner should forgo a pay rise. There is no reason to do so since, on *net* dollars, they will always be earning more. A more interesting question is whether it is *worth* working for a pay rise. Marginal analysis is tailored toward address questions such as these. \n",
    "\n",
    "For a given income level $x$, suppose $E(x)$ is the total amount of \"effort\" expended in earning $x$. The unitised effort, $E_x$, is then\n",
    "\n",
    "$$\n",
    "\\begin{align}\n",
    "E_x\n",
    "=\n",
    "\\frac{E(x)}{x}.\n",
    "\\end{align}\n",
    "$$\n",
    "\n",
    "Comparing unitised effort with the marginal value and average return given a basis on which to decide whether to working for a pay rise.\n",
    "\n",
    "```{admonition} Example\n",
    "\n",
    "To see that a pay rise should *always* be accepted if it comes for free, suppose the income earner earns $x$ amount. The total effort expended in earning $x$ is $E(x)$. With a pay rise of $y$ amount, the earner earns a new income of $x + y$. If it came for free, then $E(x + y) = E(x)$. Hence, effort expended *per dollar* is\n",
    "\n",
    "$$\n",
    "\\begin{align}\n",
    "E_{x+ y} \n",
    "=\n",
    "\\frac{E(x + y)}{x + y}\n",
    "=\n",
    "\\frac{E(x)}{x + y} \n",
    "< \n",
    "\\frac{E(x)}{x}\n",
    "=\n",
    "E_x.\n",
    "\\end{align}\n",
    "$$\n",
    "\n",
    "As $E_{x + y} < E_x$, see that the income earner will earn a greater income with *less* average effort expended. Hence, they should accept the pay rise if it is free.\n",
    "\n",
    "```\n",
    "\n",
    "### Decision basis criteria\n",
    "\n",
    "The previous example of the free pay rise illustrates an important, general principle:\n",
    "\n",
    "*if the average effort per dollar decreases with an increase in income, it is worth working for the extra dollar(s) in the income increase.*\n",
    "\n",
    "Other important factors to employ in making a decision are comparisons with the marginal and average value. There are two criteria identified here which an income earner can use to decide whether an extra dollar of income is worth earning.\n",
    "\n",
    "```{admonition} Strong criterion\n",
    "\n",
    "On an income $x$:\n",
    "\n",
    "- if $E_x < \\mathfrak m_x$, then the $x$-th dollar is worth the effort to earn it;\n",
    "- if $E_x > \\alpha_x$, the $x$-th dollar is *not* worth the effort.\n",
    "```\n",
    "\n",
    "In Australia's progressive taxation system we know that $\\mathfrak m_x \\leq \\alpha_x$ for all incomes $x$. Under the Strong Criterion, it *not* suffient for the average effort in earning income $E_x$ to be less than the average return on the dollar. It must be less than the *marginal value* $\\mathfrak m_x$. \n",
    "\n",
    "A weaker criterion is the following, based only on the premium.\n",
    "\n",
    "\n",
    "```{adnomition} Weak criterion\n",
    "\n",
    "Let $E_x$ be the unit effort expended in generated a dollar of income less than $x$. Like the premium $|x|$,  the *effort premium* $|E_x|$ is given by the difference of $E_x$ to the average $\\alpha_x$ relative to $\\alpha_x$, i.e., the percentage\n",
    "\n",
    "$$\n",
    "\\begin{align}\n",
    "\\frac{|E_x|}{100}\n",
    "=\n",
    "\\frac{\\alpha_x - E_x}{\\alpha_x}.\n",
    "\\end{align}\n",
    "$$\n",
    "\n",
    "Then:\n",
    "\n",
    "- if $|E_x| < |x|$, it is worth earning the $x$-th dollar;\n",
    "- if $|E_x| > |x|$ is is *not* worth earning the $x$-th dollar.\n",
    "\n",
    "```\n",
    "\n",
    "\n",
    "```{Note} \n",
    "\n",
    "The Weak Criterion is equivalent to the Strong criterion for incomes $x$ such that $\\mathfrak m_x = \\alpha_x$.\n",
    "```\n",
    "\n",
    "With the above two criteria, see that there are two types of *optimal* incomes that an income earner ought to vie for. These the Strong Optimal Income and Weak Optimal Income defined below.\n",
    "\n",
    "```{admonition} Definition\n",
    "\n",
    "The **Strong Optimal Income** is the income $x$ such that $E_x = \\alpha_x$. The **Weak Optimal Income** is the income $x$ such that $E_x = \\mathfrak m_x$.\n",
    "\n",
    "```\n",
    "\n",
    "At any Strong Optimal Income, it is worth earning the $x$-th dollar in the Weak Criterion. At any Weak Optimal Income, it is not necessarily true the $x$-th dollar is worth earning according to the Strong Criterion.\n",
    "\n",
    "\n",
    "### Effort components \n",
    "\n",
    "If the effort per dollar $E_x$ at any income $x$ is known, then the criteria listed above can be readily applied and a decision on whether to earn the $x$-th dollar is straightforward. Much difficulty lies therefore in understanding what comprises $E_x$. \n",
    "\n",
    "\n",
    "The construction of $E_x$ for all $x$ can be highly varied and person-specific. There are nevertheless some generic features one can identify that are reasonably applicable to all people. Two of these are:\n",
    "\n",
    "- the expenses involved in generating the income $x$; \n",
    "- expenses expected to be covered over a time frame in the future.\n",
    "\n",
    "Let $\\epsilon_x$ denote the averaged expense on earning a *net* dollar of income under $x$. This is the first of the two components above. The difference $E_x - \\epsilon_x$ is the \"excess\", to be understood analogously to *net profit*. Classically, what is the purpose of net profit? From the viewpoint of corporations, net profit can be understood as defining a company's *going concern* for a period of time in the future. \n",
    "\n",
    "The expenses $\\epsilon_x$ are easier to estimate or record both for an individual or corporation. A person or corporation's going concern is however more subjective. Determining this allows for getting a more informed  answer as to whether it is worth the effort to earn the $x$-th dollar."
   ]
  },
  {
   "cell_type": "markdown",
   "id": "76732a5e-de2e-4f0a-8990-5cb3d2f11b5c",
   "metadata": {},
   "source": [
    "-- Kowshik Bettadapura"
   ]
  }
 ],
 "metadata": {
  "kernelspec": {
   "display_name": "Python 3",
   "language": "python",
   "name": "python3"
  },
  "language_info": {
   "codemirror_mode": {
    "name": "ipython",
    "version": 3
   },
   "file_extension": ".py",
   "mimetype": "text/x-python",
   "name": "python",
   "nbconvert_exporter": "python",
   "pygments_lexer": "ipython3",
   "version": "3.8.8"
  }
 },
 "nbformat": 4,
 "nbformat_minor": 5
}
